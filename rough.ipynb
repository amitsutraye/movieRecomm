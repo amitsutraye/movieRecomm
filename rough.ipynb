{
 "cells": [
  {
   "cell_type": "code",
   "execution_count": null,
   "metadata": {},
   "outputs": [],
   "source": [
    "# The following is the code to load or download a model to your local and then access it, \n",
    "\n",
    "from sentence_transformers import SentenceTransformer\n",
    "#model = SentenceTransformer('all-MiniLM-L6-v2')\n",
    "\n",
    "# download pretrained\n",
    "model = SentenceTransformer('all-MiniLM-L6-v2')\n",
    "\n",
    "# save to local directory\n",
    "model.save('./model2/')\n",
    "\n",
    "model = None\n",
    "\n",
    "model_path = './model2/'\n",
    "\n",
    "# Load the model\n",
    "model = SentenceTransformer(model_path)\n",
    "\n",
    "model = SentenceTransformer()\n",
    "\n",
    "sentences = [\"Example sentence 1\", \"Another example sentence\"]\n",
    "embeddings = model.encode(sentences)\n",
    "embeddings"
   ]
  }
 ],
 "metadata": {
  "language_info": {
   "name": "python"
  }
 },
 "nbformat": 4,
 "nbformat_minor": 2
}
